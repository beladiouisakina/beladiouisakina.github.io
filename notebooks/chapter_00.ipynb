{
  "cells": [
    {
      "cell_type": "markdown",
      "metadata": {
        "id": "zsVK9W9oqBTz"
      },
      "source": [
        "## Chapter 0: Setup\n",
        "\n",
        "<a target=\"_blank\" href=\"https://colab.research.google.com/github/wandb/eval-course/blob/main/notebooks/chapter_00.ipynb\">\n",
        "  <img src=\"https://colab.research.google.com/assets/colab-badge.svg\" alt=\"Open In Colab\"/>\n",
        "</a>\n",
        "\n",
        "<!--- @wandbcode{eval-course-00} -->\n",
        "\n",
        "Let's install the required packages and check our setup for this course.\n",
        "\n",
        "### 🎉 Free Google AI Studio Access\n",
        "\n",
        "Before you run this colab notebook, you'll need access to Google's Generative AI models. Here's how to get started:\n",
        "\n",
        "1. Visit [Google AI Studio](https://makersuite.google.com/app/home) and sign in with your Google account\n",
        "2. Get your API key from the \"Get API key\" section in Google AI Studio\n",
        "\n",
        "Alternatively, if you already have a Google AI Studio API key, feel free to proceed. :)"
      ]
    },
    {
      "cell_type": "code",
      "execution_count": 1,
      "metadata": {
        "id": "8fzECeQLqBT7",
        "outputId": "1b5ad5c8-23cb-40bb-8490-2ff2a925f5eb",
        "colab": {
          "base_uri": "https://localhost:8080/"
        }
      },
      "outputs": [
        {
          "output_type": "stream",
          "name": "stdout",
          "text": [
            "\u001b[2K   \u001b[90m━━━━━━━━━━━━━━━━━━━━━━━━━━━━━━━━━━━━━━━━\u001b[0m \u001b[32m417.3/417.3 kB\u001b[0m \u001b[31m5.1 MB/s\u001b[0m eta \u001b[36m0:00:00\u001b[0m\n",
            "\u001b[2K   \u001b[90m━━━━━━━━━━━━━━━━━━━━━━━━━━━━━━━━━━━━━━━━\u001b[0m \u001b[32m45.5/45.5 kB\u001b[0m \u001b[31m1.5 MB/s\u001b[0m eta \u001b[36m0:00:00\u001b[0m\n",
            "\u001b[2K   \u001b[90m━━━━━━━━━━━━━━━━━━━━━━━━━━━━━━━━━━━━━━━━\u001b[0m \u001b[32m590.6/590.6 kB\u001b[0m \u001b[31m8.0 MB/s\u001b[0m eta \u001b[36m0:00:00\u001b[0m\n",
            "\u001b[2K   \u001b[90m━━━━━━━━━━━━━━━━━━━━━━━━━━━━━━━━━━━━━━━━\u001b[0m \u001b[32m325.8/325.8 kB\u001b[0m \u001b[31m7.1 MB/s\u001b[0m eta \u001b[36m0:00:00\u001b[0m\n",
            "\u001b[2K   \u001b[90m━━━━━━━━━━━━━━━━━━━━━━━━━━━━━━━━━━━━━━━━\u001b[0m \u001b[32m203.2/203.2 kB\u001b[0m \u001b[31m7.4 MB/s\u001b[0m eta \u001b[36m0:00:00\u001b[0m\n",
            "\u001b[2K   \u001b[90m━━━━━━━━━━━━━━━━━━━━━━━━━━━━━━━━━━━━━━━━\u001b[0m \u001b[32m74.3/74.3 kB\u001b[0m \u001b[31m4.0 MB/s\u001b[0m eta \u001b[36m0:00:00\u001b[0m\n",
            "\u001b[?25h"
          ]
        }
      ],
      "source": [
        "!pip install -qq weave google-generativeai"
      ]
    },
    {
      "cell_type": "markdown",
      "metadata": {
        "id": "5aNMBZANqBT9"
      },
      "source": [
        "## 1. Setup Weave\n",
        "\n",
        "\n",
        "The code cell below will prompt you to put in a W&B API key. You can get your API key by heading over to https://wandb.ai/authorize."
      ]
    },
    {
      "cell_type": "code",
      "execution_count": null,
      "metadata": {
        "id": "uGXlIvZSqBT-"
      },
      "outputs": [],
      "source": [
        "# import weave\n",
        "import weave\n",
        "\n",
        "# initialize weave client\n",
        "weave_client = weave.init(\"eval_course_ch0\")"
      ]
    },
    {
      "cell_type": "markdown",
      "metadata": {
        "id": "NdjEgZ09qBT_"
      },
      "source": [
        "## 2. Setup Google AI Studio\n",
        "\n",
        "The code cell below will prompt you to put in a Google AI Studio API key."
      ]
    },
    {
      "cell_type": "code",
      "execution_count": null,
      "metadata": {
        "id": "ZwekVCrFqBUA"
      },
      "outputs": [],
      "source": [
        "import getpass\n",
        "\n",
        "import google.generativeai as genai\n",
        "\n",
        "genai.configure(api_key=getpass.getpass(\"Please enter your Google AI Studio API key\"))"
      ]
    },
    {
      "cell_type": "markdown",
      "metadata": {
        "id": "-VU87DeqqBUB"
      },
      "source": [
        "## A simple-turn chat with Google AI Studio's gemini-2.0-flash-exp\n"
      ]
    },
    {
      "cell_type": "code",
      "execution_count": null,
      "metadata": {
        "id": "yzSgWcP5qBUC"
      },
      "outputs": [],
      "source": [
        "model = genai.GenerativeModel(\"gemini-2.0-flash-exp\")\n",
        "response = model.generate_content(\"Explain how AI works\")\n",
        "print(response.text)"
      ]
    },
    {
      "cell_type": "markdown",
      "metadata": {
        "id": "bYAQh-hbqBUD"
      },
      "source": [
        "Let's head over to the weave URL to check out the generated response."
      ]
    }
  ],
  "metadata": {
    "colab": {
      "provenance": []
    },
    "kernelspec": {
      "display_name": "Python 3",
      "name": "python3"
    },
    "language_info": {
      "codemirror_mode": {
        "name": "ipython",
        "version": 3
      },
      "file_extension": ".py",
      "mimetype": "text/x-python",
      "name": "python",
      "nbconvert_exporter": "python",
      "pygments_lexer": "ipython3",
      "version": "3.10.12"
    }
  },
  "nbformat": 4,
  "nbformat_minor": 0
}